{
 "cells": [
  {
   "cell_type": "code",
   "execution_count": 2,
   "id": "d9553468-f744-4c04-9a6b-b9feeb54337b",
   "metadata": {
    "is_executing": true
   },
   "outputs": [],
   "source": [
    "from ccdc import io\n",
    "from ccdc.descriptors import CrystalDescriptors\n",
    "from ccdc.search import TextNumericSearch, SubstructureSearch\n",
    "from ccdc.io import EntryReader\n",
    "import pandas as pd\n",
    "import numpy as np\n",
    "import sklearn as sk\n",
    "import os\n",
    "from scipy.signal import find_peaks\n",
    "import matplotlib.pyplot as plt\n",
    "import tempfile\n",
    "import sys\n",
    "sys.path.append(\"/home/jrpowel9/space-group-environment/src\")\n",
    "import pdb_wizard\n",
    "from openbabel import openbabel, pybel"
   ]
  },
  {
   "cell_type": "code",
   "execution_count": 3,
   "id": "8895bc13-d00c-446b-bacc-fb07aa854a6b",
   "metadata": {},
   "outputs": [],
   "source": [
    "dois = ['10.1021/ja500330a'] # Ref number 90"
   ]
  },
  {
   "cell_type": "code",
   "execution_count": 4,
   "id": "17b96b51-aa0a-4812-9f10-3fe8fb2623d5",
   "metadata": {},
   "outputs": [
    {
     "name": "stdout",
     "output_type": "stream",
     "text": [
      "BOHJOZ\n",
      "/tmp/tmpv8ruvvmz.cif\n",
      "[Zr]12(O[Zr]O/C(=C/C=C/3\\O[Zr]=[Zr]O3)/O1)(O/C(=C/C=C\\1/O[Zr]34(O[Zr](O/C(=C/C=C/5\\O[Zr]=[Zr]O5)/O3)O[Zr]3(O/C(=C\\C=C/5\\O[Zr]=[Zr]O5)/O[Zr](O1)(O[Zr]O4)(O[Zr]O3)[O])([O])([O])[O])[O])/O[Zr]13(O[Zr@](OC(=O)[CH]/C=C/4\\O[Zr]=[Zr]O4)(O3)O2)(O/C(=C/C=C(/O[Zr][O])\\O[Zr]2(O[Zr]O2)([O])([O])[O])/O[Zr]([O])O1)[O])[O].[O].[O].[O].[O].[O].[O].[O].[O].[O].[O].[O].[O].[O].[O].[O].[O].[O].[O].[O].[O].[O].[O].[O].[O].[O].[O].[O].[O].[C].[C].[C].[C].[C].[C].[C].[C].[C].[C].[C].[C].[C].[C].[C].[C].[C].[C].[C].[C].[C].[C].[C].[C].[C].[C].[C].[C].[C].[C].[C].[C].[C].[C].[C].[C].[C].[C].[C].[C].[H].[H].[H].[H].[H].[H].[H].[H].[H].[H].[H].[H].[H].[H].[H].[H].[H].[H].[H].[H].[H].[H].[O].[O].[O].[O].[O].[O].[O].[O].[O].[O].[O].[O].[O].[O].[O].[O].[C].[C].[C].[C].[C].[C].[C].[C].[C].[C].[C].[C].[C].[C].[C].[C].[C].[C].[O].[O].[O].[O].[O].[O].[O].[O].[O].[O].[O].[O].[O].[O].[O].[O].[O].[O].[O].[O].[O].[O].[O].[O].[O].[O].[O].[O].[O].[O].[O].[O].[O].[O].[O].[O].[O].[O].[O].[O].[O].[O].[Zr].[Zr].[Zr].[Zr].[Zr].[Zr].[Zr].[Zr].[Zr].[Zr].[Zr].[Zr].[Zr].[Zr].[Zr].[Zr].[O].[O].[O].[O].[O].[O].[O].[O].[O].[O].[O].[O].[O].[O].[O].[O].[O].[O].[O].[O].[O].[O].[H].[H].[H].[H].[H].[H].[H].[H].[H].[H].[H].[H].[H].[H].[H].[H].[H].[H].[H].[H].[H].[C].[C].[C].[C].[C].[C].[C].[C].[C].[C].[C].[C].[C].[C].[C].[C].[C].[C].[C].[C].[C].[C].[O].[H].[O].[O].[O].[O].[O].[O].[O].[O].[O].[O].[O].[O].[O].[O].[O].[O].[O].[O].[O].[O].[O].[O].[O].[O].[O].[O].[O].[O].[O].[O].[O].[O].[O].[O].[O].[O].[O].[O].[O].[O].[O].[O]\tBOHJOZ\n",
      "\n"
     ]
    },
    {
     "name": "stderr",
     "output_type": "stream",
     "text": [
      "==============================\n",
      "*** Open Babel Warning  in Init\n",
      "  Unable to open data file 'space-groups.txt'\n",
      "==============================\n",
      "*** Open Babel Warning  in Init\n",
      "  Cannot initialize database 'space-groups.txt' which may cause further errors.\n",
      "==============================\n",
      "*** Open Babel Warning  in Find\n",
      "  Unknown space group error, please file a bug report.\n",
      "==============================\n",
      "*** Open Babel Warning  in PerceiveBondOrders\n",
      "  Failed to kekulize aromatic bonds in OBMol::PerceiveBondOrders (title is BOHJOZ)\n",
      "\n",
      "==============================\n",
      "*** Open Babel Warning  in Do\n",
      "  Converting to P 1 cell using available symmetry transformations.\n"
     ]
    },
    {
     "ename": "NameError",
     "evalue": "name 'charges' is not defined",
     "output_type": "error",
     "traceback": [
      "\u001b[0;31m---------------------------------------------------------------------------\u001b[0m",
      "\u001b[0;31mNameError\u001b[0m                                 Traceback (most recent call last)",
      "Cell \u001b[0;32mIn[4], line 23\u001b[0m\n\u001b[1;32m     19\u001b[0m     \u001b[38;5;28mprint\u001b[39m(mol)\n\u001b[1;32m     20\u001b[0m     exit(\u001b[38;5;241m0\u001b[39m)\n\u001b[0;32m---> 23\u001b[0m \u001b[38;5;28mprint\u001b[39m(\u001b[43mcharges\u001b[49m)\n",
      "\u001b[0;31mNameError\u001b[0m: name 'charges' is not defined"
     ]
    }
   ],
   "source": [
    "csd_reader = EntryReader('CSD')\n",
    "\n",
    "for doi in dois:\n",
    "    doi_search = TextNumericSearch()\n",
    "    doi_search.add_doi(doi)\n",
    "    for q in doi_search.search():\n",
    "        mol_name = q.identifier\n",
    "        mol = csd_reader.molecule(mol_name)\n",
    "        print(mol_name)\n",
    "\n",
    "        with tempfile.NamedTemporaryFile(delete=True, suffix='.cif') as fp:\n",
    "            print(fp.name)\n",
    "            with io.CrystalWriter(fp.name, append=True) as crystal_writer:\n",
    "                crystal_writer.write(mol)\n",
    "            with open(fp.name) as in_file:\n",
    "                data = in_file.read()\n",
    "            mol = next(pybel.readfile(\"cif\", fp.name))\n",
    "            # charges = mol.calccharges(\"eqeq\")\n",
    "            print(mol)\n",
    "            exit(0)\n",
    "            \n",
    "\n",
    "        print(charges)\n",
    "        # with io.CrystalWriter(os.path.join(cif_dir, q.identifier + '.cif'), append=True) as crystal_writer:\n",
    "        #     crystal_writer.write(mol)\n",
    "        # with io.CrystalWriter(os.path.join(pdb_dir, q.identifier + '.pdb'), append=True) as crystal_writer:\n",
    "        #     crystal_writer.write(mol)"
   ]
  },
  {
   "cell_type": "code",
   "execution_count": null,
   "id": "5366c4c0-4476-4f3c-9270-a795b3e8537b",
   "metadata": {},
   "outputs": [],
   "source": [
    "os.getcwd()"
   ]
  },
  {
   "cell_type": "code",
   "execution_count": null,
   "id": "b3d9947f-4e42-4c2c-bbbb-d8cd23cd8db9",
   "metadata": {},
   "outputs": [],
   "source": []
  }
 ],
 "metadata": {
  "kernelspec": {
   "display_name": "Python 3 (ipykernel)",
   "language": "python",
   "name": "python3"
  },
  "language_info": {
   "codemirror_mode": {
    "name": "ipython",
    "version": 3
   },
   "file_extension": ".py",
   "mimetype": "text/x-python",
   "name": "python",
   "nbconvert_exporter": "python",
   "pygments_lexer": "ipython3",
   "version": "3.9.18"
  }
 },
 "nbformat": 4,
 "nbformat_minor": 5
}
