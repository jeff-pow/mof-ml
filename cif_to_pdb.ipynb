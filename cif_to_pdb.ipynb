{
 "cells": [
  {
   "cell_type": "code",
   "execution_count": 1,
   "id": "8709b6d7-498d-4f30-b32f-1843894a65ef",
   "metadata": {},
   "outputs": [],
   "source": [
    "from ccdc import io\n",
    "from ccdc.descriptors import CrystalDescriptors\n",
    "import os"
   ]
  },
  {
   "cell_type": "code",
   "execution_count": 2,
   "id": "c068e320-02e9-47f0-8950-43a0b2ce2fe4",
   "metadata": {},
   "outputs": [],
   "source": [
    "current_dir = os.path.join(os.getcwd(), \"cifs\")\n",
    "files_in_dir = os.listdir(current_dir)\n",
    "cif_files = [os.path.join(\"cifs\", file) for file in files_in_dir if file.endswith(\".cif\")]"
   ]
  },
  {
   "cell_type": "code",
   "execution_count": 3,
   "id": "0556434c-530c-410f-8786-ef7bc7134f6c",
   "metadata": {},
   "outputs": [
    {
     "ename": "OSError",
     "evalue": "[Errno 39] Directory not empty: 'pdbs'",
     "output_type": "error",
     "traceback": [
      "\u001b[0;31m---------------------------------------------------------------------------\u001b[0m",
      "\u001b[0;31mOSError\u001b[0m                                   Traceback (most recent call last)",
      "Cell \u001b[0;32mIn[3], line 4\u001b[0m\n\u001b[1;32m      2\u001b[0m count \u001b[38;5;241m=\u001b[39m \u001b[38;5;241m0\u001b[39m\n\u001b[1;32m      3\u001b[0m temp_dir \u001b[38;5;241m=\u001b[39m os\u001b[38;5;241m.\u001b[39mpath\u001b[38;5;241m.\u001b[39mjoin(\u001b[38;5;124m'\u001b[39m\u001b[38;5;124mpdbs\u001b[39m\u001b[38;5;124m'\u001b[39m)\n\u001b[0;32m----> 4\u001b[0m \u001b[43mos\u001b[49m\u001b[38;5;241;43m.\u001b[39;49m\u001b[43mrmdir\u001b[49m\u001b[43m(\u001b[49m\u001b[43mtemp_dir\u001b[49m\u001b[43m)\u001b[49m\n\u001b[1;32m      5\u001b[0m os\u001b[38;5;241m.\u001b[39mmkdir(temp_dir, \u001b[38;5;241m0o744\u001b[39m)\n\u001b[1;32m      6\u001b[0m \u001b[38;5;28;01mfor\u001b[39;00m cif \u001b[38;5;129;01min\u001b[39;00m cif_files: \n",
      "\u001b[0;31mOSError\u001b[0m: [Errno 39] Directory not empty: 'pdbs'"
     ]
    }
   ],
   "source": [
    "mofs = [] \n",
    "count = 0\n",
    "temp_dir = os.path.join('pdbs')\n",
    "os.rmdir(temp_dir)\n",
    "os.mkdir(temp_dir, 0o744)\n",
    "for cif in cif_files: \n",
    "    reader = io.EntryReader(cif) \n",
    "    for mol in reader: \n",
    "        crystal = mol.crystal \n",
    "        # https://downloads.ccdc.cam.ac.uk/documentation/API/modules/io_api.html#ccdc.io.CrystalWriter\n",
    "        file_name = os.path.basename(cif)\n",
    "        file_name = os.path.splitext(file_name)\n",
    "        print(file_name[0])\n",
    "        file_path = os.path.join(temp_dir, file_name[0] + '.pdb')\n",
    "\n",
    "        with io.CrystalWriter(os.path.join(temp_dir, file_name[0] + '.pdb'), append=True) as crystal_writer:\n",
    "            crystal_writer.write(crystal)"
   ]
  },
  {
   "cell_type": "code",
   "execution_count": null,
   "id": "599a5077-9950-48a3-a618-9a92785bce58",
   "metadata": {},
   "outputs": [],
   "source": []
  },
  {
   "cell_type": "code",
   "execution_count": null,
   "id": "fc9de1ea-aea3-45e0-9d35-6d5d92bafc29",
   "metadata": {},
   "outputs": [],
   "source": []
  }
 ],
 "metadata": {
  "kernelspec": {
   "display_name": "Python 3 (ipykernel)",
   "language": "python",
   "name": "python3"
  },
  "language_info": {
   "codemirror_mode": {
    "name": "ipython",
    "version": 3
   },
   "file_extension": ".py",
   "mimetype": "text/x-python",
   "name": "python",
   "nbconvert_exporter": "python",
   "pygments_lexer": "ipython3",
   "version": "3.9.18"
  }
 },
 "nbformat": 4,
 "nbformat_minor": 5
}
