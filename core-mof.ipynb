{
 "cells": [
  {
   "cell_type": "code",
   "execution_count": 1,
   "metadata": {},
   "outputs": [],
   "source": [
    "from ccdc import io\n",
    "from ccdc.descriptors import CrystalDescriptors\n",
    "import pandas as pd\n",
    "import numpy as np\n",
    "import sklearn as sk\n",
    "import os\n",
    "from scipy.signal import find_peaks\n",
    "import matplotlib.pyplot as plt\n",
    "import copy"
   ]
  },
  {
   "cell_type": "code",
   "execution_count": 2,
   "metadata": {},
   "outputs": [],
   "source": [
    "current_directory = os.path.join(os.getcwd(), \"cifs\")\n",
    "files_in_directory = os.listdir(current_directory)\n",
    "cif_files = [os.path.join(\"cifs\", file) for file in files_in_directory if file.endswith(\".cif\")]"
   ]
  },
  {
   "cell_type": "code",
   "execution_count": 3,
   "metadata": {},
   "outputs": [],
   "source": [
    "import re\n",
    "def parse_formula(formula: str):\n",
    "    '''This takes a string in the form 'C48 H32 Co4 N8 O16' and converts it\n",
    "       into a dict in the form {'C': 48, 'H': 32, ... }\n",
    "    '''\n",
    "    # Thanks chat gippity\n",
    "    pattern = r'([A-Z][a-z]*)(\\d*)'\n",
    "    elements = re.findall(pattern, formula)\n",
    "    parsed_formula = {}\n",
    "\n",
    "    for element, count in elements:\n",
    "        if count == '':\n",
    "            count = 1\n",
    "        else:\n",
    "            count = int(count)\n",
    "        # parsed_formula.append((element, count))\n",
    "        parsed_formula[element] = count\n",
    "\n",
    "    return parsed_formula"
   ]
  },
  {
   "cell_type": "code",
   "execution_count": null,
   "metadata": {},
   "outputs": [],
   "source": [
    "formulas = []\n",
    "unique_elements = set()\n",
    "count = 0\n",
    "for cif in cif_files:\n",
    "    reader = io.EntryReader(cif)\n",
    "    for mol in reader:\n",
    "        crystal = mol.crystal\n",
    "        for key in parse_formula(crystal.formula).keys():\n",
    "            # unique_elements is a set, and sets don't allow duplicate elements, \n",
    "            # so we only have one copy of each element\n",
    "            unique_elements.add(key)\n",
    "            print(count)\n",
    "            count += 1"
   ]
  },
  {
   "cell_type": "code",
   "execution_count": 28,
   "metadata": {},
   "outputs": [
    {
     "name": "stdout",
     "output_type": "stream",
     "text": [
      "2251\n"
     ]
    },
    {
     "data": {
      "image/png": "[encoded data removed]",
      "text/plain": [
       "<Figure size 640x480 with 1 Axes>"
      ]
     },
     "metadata": {},
     "output_type": "display_data"
    },
    {
     "name": "stdout",
     "output_type": "stream",
     "text": [
      "{'molecule_name': 'cifs/ABAVIJ_clean.cif', 'habit': None, 'disorder': 0, 'void_volume': 15.229166666666666, 'crystal_system': 'triclinic', 'calculated_density': 1.524916547326379, 'packing_coefficient': 0.6274021164021164, '2theta_0': 10.92, '2theta_1': 21.96, '2theta_2': 22.94, '2theta_3': 19.939999999999998, '2theta_4': 28.62, '2theta_5': 26.78, '2theta_6': 41.44, '2theta_7': 23.66, '2theta_8': 40.04, '2theta_9': 33.28}\n"
     ]
    },
    {
     "ename": "NameError",
     "evalue": "name 'unique_elements' is not defined",
     "output_type": "error",
     "traceback": [
      "\u001b[0;31m---------------------------------------------------------------------------\u001b[0m",
      "\u001b[0;31mNameError\u001b[0m                                 Traceback (most recent call last)",
      "Cell \u001b[0;32mIn[28], line 48\u001b[0m\n\u001b[1;32m     46\u001b[0m \u001b[38;5;28mprint\u001b[39m(mof_data)\n\u001b[1;32m     47\u001b[0m \u001b[38;5;66;03m# One hot encoding for elements in the MOF. \u001b[39;00m\n\u001b[0;32m---> 48\u001b[0m mof_data\u001b[38;5;241m.\u001b[39mupdate({key: parsed_formula\u001b[38;5;241m.\u001b[39mget(key, \u001b[38;5;241m0\u001b[39m) \u001b[38;5;28;01mfor\u001b[39;00m key \u001b[38;5;129;01min\u001b[39;00m \u001b[43munique_elements\u001b[49m})\n\u001b[1;32m     50\u001b[0m mofs\u001b[38;5;241m.\u001b[39mappend(mof_data)\n\u001b[1;32m     52\u001b[0m \u001b[38;5;28mprint\u001b[39m(count)\n",
      "\u001b[0;31mNameError\u001b[0m: name 'unique_elements' is not defined"
     ]
    }
   ],
   "source": [
    "import sys\n",
    "\n",
    "mofs = []\n",
    "count = 0\n",
    "for cif in cif_files:\n",
    "    reader = io.EntryReader(cif)\n",
    "    for mol in reader:\n",
    "        crystal = mol.crystal\n",
    "\n",
    "        pattern     = CrystalDescriptors.PowderPattern.from_crystal(crystal)\n",
    "        two_theta   = pattern.two_theta # x values in an xye file\n",
    "        intensities = pattern.intensity # y values in an xye file\n",
    "        zipped      = [(y, x) for x, y in zip(two_theta, intensities)]\n",
    "        \n",
    "        plt.plot(two_theta, intensities)\n",
    "        peaks, props = find_peaks(intensities, distance=35)\n",
    "        np_ints = np.array(intensities)\n",
    "        np_thetas = np.array(two_theta)\n",
    "        \n",
    "        plotted_peaks = []\n",
    "        # Each p is an index into the lists two_theta and intensities denoting there is a peak\n",
    "        # there.\n",
    "        for p in peaks:\n",
    "            plotted_peaks.append((intensities[p], two_theta[p]))\n",
    "        plotted_peaks.sort(reverse=True)\n",
    "        y, x = zip(*plotted_peaks)\n",
    "        plt.plot(x, y, 'x')\n",
    "        print(len(intensities))      \n",
    "        plt.show()\n",
    "        XYE_POINTS = 10\n",
    "\n",
    "        parsed_formula = parse_formula(crystal.formula)\n",
    "\n",
    "        mof_data = {\n",
    "            'molecule_name'      : cif,\n",
    "            'habit'              : mol.habit,\n",
    "            'disorder'           : int(crystal.has_disorder),\n",
    "            'void_volume'        : crystal.void_volume(),\n",
    "            'crystal_system'     : crystal.crystal_system,\n",
    "            'calculated_density' : crystal.calculated_density,\n",
    "            'packing_coefficient': crystal.packing_coefficient,\n",
    "        }\n",
    "        # Add the specified number of two theta peaks\n",
    "        for x in range(XYE_POINTS):\n",
    "            mof_data['2theta_' + str(x)] = plotted_peaks[x][-1]\n",
    "        print(mof_data)\n",
    "        # One hot encoding for elements in the MOF. \n",
    "        mof_data.update({key: parsed_formula.get(key, 0) for key in unique_elements})\n",
    "\n",
    "        mofs.append(mof_data)\n",
    "\n",
    "        print(count)\n",
    "        count += 1\n",
    "\n",
    "df = pd.DataFrame(mofs)\n",
    "df.to_csv('mof_data.csv')\n"
   ]
  },
  {
   "cell_type": "code",
   "execution_count": null,
   "metadata": {},
   "outputs": [],
   "source": [
    "print(unique_elements)\n",
    "df"
   ]
  }
 ],
 "metadata": {
  "kernelspec": {
   "display_name": "Python 3 (ipykernel)",
   "language": "python",
   "name": "python3"
  },
  "language_info": {
   "codemirror_mode": {
    "name": "ipython",
    "version": 3
   },
   "file_extension": ".py",
   "mimetype": "text/x-python",
   "name": "python",
   "nbconvert_exporter": "python",
   "pygments_lexer": "ipython3",
   "version": "3.9.18"
  }
 },
 "nbformat": 4,
 "nbformat_minor": 4
}
