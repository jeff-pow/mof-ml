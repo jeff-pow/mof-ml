{
 "cells": [
  {
   "cell_type": "code",
   "execution_count": 1,
   "id": "1120cf64-2cfd-4d0e-a707-76bd7de10cb1",
   "metadata": {},
   "outputs": [],
   "source": [
    "# This notebook tries to convert the mofs from the review paper into pdb files."
   ]
  },
  {
   "cell_type": "code",
   "execution_count": 1,
   "id": "d9553468-f744-4c04-9a6b-b9feeb54337b",
   "metadata": {
    "is_executing": true
   },
   "outputs": [],
   "source": [
    "from ccdc import io\n",
    "from ccdc.descriptors import CrystalDescriptors\n",
    "from ccdc.search import TextNumericSearch, SubstructureSearch\n",
    "from ccdc.io import EntryReader\n",
    "import pandas as pd\n",
    "import numpy as np\n",
    "import sklearn as sk\n",
    "import os\n",
    "from scipy.signal import find_peaks\n",
    "import matplotlib.pyplot as plt\n",
    "import tempfile\n",
    "import sys\n",
    "#sys.path.append(\"/home/jrpowel9/space-group-environment/src\")\n",
    "import pdb_wizard\n",
    "from openbabel import openbabel, pybel"
   ]
  },
  {
   "cell_type": "code",
   "execution_count": 3,
   "id": "8895bc13-d00c-446b-bacc-fb07aa854a6b",
   "metadata": {},
   "outputs": [],
   "source": [
    "# dois = ['10.1021/ja500330a'] # Ref number 90\n",
    "# dois = ['10.1021/ja500330a'] # Ref 75 - Should contain MOF-841(Zr)"
   ]
  },
  {
   "cell_type": "code",
   "execution_count": 4,
   "id": "17b96b51-aa0a-4812-9f10-3fe8fb2623d5",
   "metadata": {},
   "outputs": [],
   "source": [
    "# This is how you could look up structures by DOI, but this seems like a horrendously inefficient way to do it.\n",
    "# csd_reader = EntryReader('CSD')\n",
    "# # Try saving pdb or sdf/sdf2\n",
    "# # Pdbs failed 8/9, sdf2 wasn't recognized, sdf failed 6/9\n",
    "# tmp_file_type = 'pdb'\n",
    "# # print DOI, ref code, whether or not in core mof database, and whether or not charges ran successfully\n",
    "# # save to a dataframe\n",
    "# for doi in dois:\n",
    "#     doi_search = TextNumericSearch()\n",
    "#     doi_search.add_doi(doi)\n",
    "#     print(doi)\n",
    "#     for q in doi_search.search():\n",
    "#         print(':(')\n",
    "#         mol_name = q.identifier\n",
    "#         mol = csd_reader.molecule(mol_name)\n",
    "#         print(mol_name)\n",
    "#         print(type(mol))\n",
    "#         continue\n",
    "\n",
    "#         with tempfile.NamedTemporaryFile(delete=True, suffix='.' + tmp_file_type, mode='w+') as fp:\n",
    "#             with io.CrystalWriter(fp.name, append=True) as crystal_writer:\n",
    "#                 crystal_writer.write(mol)\n",
    "#             # print(fp.read())\n",
    "#             fp.seek(0)\n",
    "#             is_trajectory = pdb_wizard.check_pdb_trajectory(fp.name)\n",
    "#             fp.seek(0)\n",
    "#             if is_trajectory:\n",
    "#                 print('Trajectories are not handled...')\n",
    "#                 exit(1)\n",
    "#             else:\n",
    "#                 system, pbc = pdb_wizard.read_pdb(fp)\n",
    "#             if pbc is None:\n",
    "#                 print('PBC info not found :(')\n",
    "#                 exit(1)\n",
    "#             out = open(mol_name + '_dirty.pdb', 'w')\n",
    "#             pdb_wizard.write_standard_pdb(system, pbc, out)\n",
    "#             out.close()\n",
    "#             pdb_wizard.delete_solvents(system, pbc)\n",
    "#             out = open(mol_name + '_clean.pdb', 'w')\n",
    "#             pdb_wizard.write_standard_pdb(system, pbc, out)\n",
    "#             out.close()\n",
    "            \n",
    "#             # print(data)\n",
    "#             # mol = next(pybel.readfile(tmp_file_type, fp.name))\n",
    "#             # charges = mol.calccharges(\"eqeq\")\n",
    "#             # print(mol)"
   ]
  },
  {
   "cell_type": "code",
   "execution_count": 2,
   "id": "c566bbaa-a14b-4ea2-987a-1ce8f509b871",
   "metadata": {},
   "outputs": [],
   "source": [
    "# I so can't be bothered to write the type hint for the molecule return value...\n",
    "def find_mol(name: str):\n",
    "    name_search = TextNumericSearch()\n",
    "    name_search.add_synonym(name)\n",
    "        # The name of the structure needs to be manually looked up if the number of results isn't exactly one\n",
    "    results_found = len(name_search.search())\n",
    "    if results_found == 0 or results_found > 1:\n",
    "        return None\n",
    "        \n",
    "    return name_search.search()[0]"
   ]
  },
  {
   "cell_type": "code",
   "execution_count": 3,
   "id": "a262cb8e-1970-43df-9ae2-bb559e9bf9ba",
   "metadata": {},
   "outputs": [
    {
     "name": "stdout",
     "output_type": "stream",
     "text": [
      "Molecule not found: Cr-soc-MOF-1 TCPT\n",
      "\n",
      "Molecule not found: MIL-101(Cr) BDC\n",
      "\n",
      "Molecule not found: MIL-101(Cr) BDC\n",
      "\n",
      "Molecule not found: MIL-101(Cr) BDC\n",
      "\n"
     ]
    },
    {
     "ename": "KeyboardInterrupt",
     "evalue": "",
     "output_type": "error",
     "traceback": [
      "\u001b[0;31m---------------------------------------------------------------------------\u001b[0m",
      "\u001b[0;31mKeyboardInterrupt\u001b[0m                         Traceback (most recent call last)",
      "Cell \u001b[0;32mIn[3], line 23\u001b[0m\n\u001b[1;32m     21\u001b[0m \u001b[38;5;66;03m# For each format, look it up in the database\u001b[39;00m\n\u001b[1;32m     22\u001b[0m \u001b[38;5;28;01mfor\u001b[39;00m \u001b[38;5;28mformat\u001b[39m \u001b[38;5;129;01min\u001b[39;00m formats_to_try:\n\u001b[0;32m---> 23\u001b[0m     result \u001b[38;5;241m=\u001b[39m \u001b[43mfind_mol\u001b[49m\u001b[43m(\u001b[49m\u001b[38;5;28;43mformat\u001b[39;49m\u001b[43m)\u001b[49m\n\u001b[1;32m     24\u001b[0m \u001b[38;5;66;03m# If we didn't find any results, print that fact and move on to the next line in the text file\u001b[39;00m\n\u001b[1;32m     25\u001b[0m \u001b[38;5;28;01mif\u001b[39;00m result \u001b[38;5;129;01mis\u001b[39;00m \u001b[38;5;28;01mNone\u001b[39;00m:\n",
      "Cell \u001b[0;32mIn[2], line 6\u001b[0m, in \u001b[0;36mfind_mol\u001b[0;34m(name)\u001b[0m\n\u001b[1;32m      4\u001b[0m name_search\u001b[38;5;241m.\u001b[39madd_synonym(name)\n\u001b[1;32m      5\u001b[0m     \u001b[38;5;66;03m# The name of the structure needs to be manually looked up if the number of results isn't exactly one\u001b[39;00m\n\u001b[0;32m----> 6\u001b[0m results_found \u001b[38;5;241m=\u001b[39m \u001b[38;5;28mlen\u001b[39m(\u001b[43mname_search\u001b[49m\u001b[38;5;241;43m.\u001b[39;49m\u001b[43msearch\u001b[49m\u001b[43m(\u001b[49m\u001b[43m)\u001b[49m)\n\u001b[1;32m      7\u001b[0m \u001b[38;5;28;01mif\u001b[39;00m results_found \u001b[38;5;241m==\u001b[39m \u001b[38;5;241m0\u001b[39m \u001b[38;5;129;01mor\u001b[39;00m results_found \u001b[38;5;241m>\u001b[39m \u001b[38;5;241m1\u001b[39m:\n\u001b[1;32m      8\u001b[0m     \u001b[38;5;28;01mreturn\u001b[39;00m \u001b[38;5;28;01mNone\u001b[39;00m\n",
      "File \u001b[0;32m~/.conda/envs/csd/lib/python3.9/site-packages/ccdc/search.py:1544\u001b[0m, in \u001b[0;36mSearch.search\u001b[0;34m(self, database, max_hit_structures, max_hits_per_structure)\u001b[0m\n\u001b[1;32m   1541\u001b[0m         \u001b[38;5;28mself\u001b[39m\u001b[38;5;241m.\u001b[39msettings\u001b[38;5;241m.\u001b[39mmax_hits_per_structure \u001b[38;5;241m=\u001b[39m max_hits_per_structure\n\u001b[1;32m   1543\u001b[0m \u001b[38;5;28;01mif\u001b[39;00m database \u001b[38;5;129;01mis\u001b[39;00m \u001b[38;5;28;01mNone\u001b[39;00m \u001b[38;5;129;01mor\u001b[39;00m database \u001b[38;5;241m==\u001b[39m \u001b[38;5;124m'\u001b[39m\u001b[38;5;124mCSD\u001b[39m\u001b[38;5;124m'\u001b[39m:\n\u001b[0;32m-> 1544\u001b[0m     \u001b[38;5;28;01mreturn\u001b[39;00m \u001b[38;5;28;43mself\u001b[39;49m\u001b[38;5;241;43m.\u001b[39;49m\u001b[43m_search_reader\u001b[49m\u001b[43m(\u001b[49m\u001b[43mEntryReader\u001b[49m\u001b[43m(\u001b[49m\u001b[38;5;124;43m'\u001b[39;49m\u001b[38;5;124;43mCSD\u001b[39;49m\u001b[38;5;124;43m'\u001b[39;49m\u001b[43m)\u001b[49m\u001b[43m)\u001b[49m\n\u001b[1;32m   1545\u001b[0m \u001b[38;5;28;01mif\u001b[39;00m \u001b[38;5;28misinstance\u001b[39m(database, _DatabaseReader):\n\u001b[1;32m   1546\u001b[0m     \u001b[38;5;28;01mreturn\u001b[39;00m \u001b[38;5;28mself\u001b[39m\u001b[38;5;241m.\u001b[39m_search_reader(database)\n",
      "File \u001b[0;32m~/.conda/envs/csd/lib/python3.9/site-packages/ccdc/search.py:2243\u001b[0m, in \u001b[0;36mTextNumericSearch._search_reader\u001b[0;34m(self, reader)\u001b[0m\n\u001b[1;32m   2241\u001b[0m \u001b[38;5;28;01melse\u001b[39;00m:\n\u001b[1;32m   2242\u001b[0m     \u001b[38;5;28mself\u001b[39m\u001b[38;5;241m.\u001b[39m_search\u001b[38;5;241m.\u001b[39msettings()\u001b[38;5;241m.\u001b[39mset_maximum_hits_limit(\u001b[38;5;28mself\u001b[39m\u001b[38;5;241m.\u001b[39msettings\u001b[38;5;241m.\u001b[39mmax_hit_structures)\n\u001b[0;32m-> 2243\u001b[0m     ids \u001b[38;5;241m=\u001b[39m \u001b[43mCSDSQLDatabaseLib\u001b[49m\u001b[38;5;241;43m.\u001b[39;49m\u001b[43mtext_numeric_search\u001b[49m\u001b[43m(\u001b[49m\u001b[43mreader\u001b[49m\u001b[38;5;241;43m.\u001b[39;49m\u001b[43m_text_numeric_searcher\u001b[49m\u001b[43m,\u001b[49m\u001b[43m \u001b[49m\u001b[38;5;28;43mself\u001b[39;49m\u001b[38;5;241;43m.\u001b[39;49m\u001b[43m_search\u001b[49m\u001b[43m)\u001b[49m\n\u001b[1;32m   2244\u001b[0m     l \u001b[38;5;241m=\u001b[39m \u001b[38;5;28mlist\u001b[39m(\n\u001b[1;32m   2245\u001b[0m         TextNumericSearch\u001b[38;5;241m.\u001b[39mTextNumericHit(x, reader\u001b[38;5;241m.\u001b[39m_db) \u001b[38;5;28;01mfor\u001b[39;00m x \u001b[38;5;129;01min\u001b[39;00m ids\n\u001b[1;32m   2246\u001b[0m     )\n\u001b[1;32m   2247\u001b[0m \u001b[38;5;28;01mreturn\u001b[39;00m l\n",
      "File \u001b[0;32m~/.conda/envs/csd/lib/python3.9/site-packages/ccdc/_lib/CSDSQLDatabaseLib39.py:2690\u001b[0m, in \u001b[0;36mtext_numeric_search\u001b[0;34m(*args)\u001b[0m\n\u001b[1;32m   2689\u001b[0m \u001b[38;5;28;01mdef\u001b[39;00m \u001b[38;5;21mtext_numeric_search\u001b[39m(\u001b[38;5;241m*\u001b[39margs):\n\u001b[0;32m-> 2690\u001b[0m     \u001b[38;5;28;01mreturn\u001b[39;00m \u001b[43m_CSDSQLDatabaseLib39\u001b[49m\u001b[38;5;241;43m.\u001b[39;49m\u001b[43mtext_numeric_search\u001b[49m\u001b[43m(\u001b[49m\u001b[38;5;241;43m*\u001b[39;49m\u001b[43margs\u001b[49m\u001b[43m)\u001b[49m\n",
      "\u001b[0;31mKeyboardInterrupt\u001b[0m: "
     ]
    }
   ],
   "source": [
    "mol_file = open('review-paper-mofs.txt', 'r')\n",
    "csd_reader = EntryReader('CSD')\n",
    "pdb_dir = 'pdbs'\n",
    "if not os.path.exists(pdb_dir):\n",
    "    os.makedirs(pdb_dir)\n",
    "\n",
    "tmp_file_type = 'pdb'\n",
    "\n",
    "for name in mol_file:\n",
    "    # We want to try a few different formats of each line the text file has. The text file has the first \n",
    "    # two columns from the review paper table whitespace separated\n",
    "    formats_to_try = []\n",
    "    # This just tries the first word\n",
    "    formats_to_try.append(name.split()[0])\n",
    "    # This tries the first word without the parenthesized part at the end (if it has it)\n",
    "    formats_to_try.append(name.split(')')[0])\n",
    "    # Likely will need more formats here\n",
    "\n",
    "    # Start out assuming we don't have a result from the database\n",
    "    result = None\n",
    "    # For each format, look it up in the database\n",
    "    for format in formats_to_try:\n",
    "        result = find_mol(format)\n",
    "    # If we didn't find any results, print that fact and move on to the next line in the text file\n",
    "    if result is None:\n",
    "        print(f'Molecule not found: {name}')\n",
    "        continue\n",
    "\n",
    "    mol_name = result.identifier\n",
    "    mol = csd_reader.molecule(mol_name)\n",
    "    print(f'Provided name: {name} - Ref Code: {mol_name}')\n",
    "\n",
    "    with tempfile.NamedTemporaryFile(delete=True, suffix='.' + tmp_file_type, mode='w+') as fp:\n",
    "        with io.CrystalWriter(fp.name, append=True) as crystal_writer:\n",
    "            crystal_writer.write(mol)\n",
    "        # fp.seek(0) will rewind the file pointer to the beginning of the file to make sure we are always \n",
    "        # reading from the start of the file rather than somewhere in the middle or end\n",
    "        fp.seek(0)\n",
    "        is_trajectory = pdb_wizard.check_pdb_trajectory(fp.name)\n",
    "        fp.seek(0)\n",
    "        if is_trajectory:\n",
    "            print('Trajectories are not handled...')\n",
    "            exit(1)\n",
    "        else:\n",
    "            system, pbc = pdb_wizard.read_pdb(fp)\n",
    "        if pbc is None:\n",
    "            print('PBC info not found :(')\n",
    "            exit(1)\n",
    "        # 'Testing' framework for making sure the cleaning code works (it totally doesn't right now :[)\n",
    "        out = open(os.path.join(pdb_dir, mol_name + '_dirty.pdb'), 'w')\n",
    "        pdb_wizard.write_standard_pdb(system, pbc, out)\n",
    "        out.close()\n",
    "        pdb_wizard.delete_solvents(system, pbc)\n",
    "        out = open(os.path.join(pdb_dir, mol_name + '_clean.pdb'), 'w')\n",
    "        pdb_wizard.write_standard_pdb(system, pbc, out)\n",
    "        out.close()\n",
    "        \n",
    "        # print(data)\n",
    "        # mol = next(pybel.readfile(tmp_file_type, fp.name))\n",
    "        # charges = mol.calccharges(\"eqeq\")\n",
    "        # print(mol)"
   ]
  },
  {
   "cell_type": "code",
   "execution_count": null,
   "id": "cfe3400b-99c2-49ce-84cb-fb74ed5d87ca",
   "metadata": {},
   "outputs": [],
   "source": []
  }
 ],
 "metadata": {
  "kernelspec": {
   "display_name": "Python 3 (ipykernel)",
   "language": "python",
   "name": "python3"
  },
  "language_info": {
   "codemirror_mode": {
    "name": "ipython",
    "version": 3
   },
   "file_extension": ".py",
   "mimetype": "text/x-python",
   "name": "python",
   "nbconvert_exporter": "python",
   "pygments_lexer": "ipython3",
   "version": "3.9.18"
  }
 },
 "nbformat": 4,
 "nbformat_minor": 5
}
