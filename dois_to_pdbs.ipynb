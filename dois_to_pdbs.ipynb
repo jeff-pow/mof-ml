{
 "cells": [
  {
   "cell_type": "code",
   "execution_count": 1,
   "id": "d9553468-f744-4c04-9a6b-b9feeb54337b",
   "metadata": {
    "is_executing": true
   },
   "outputs": [],
   "source": [
    "from ccdc import io\n",
    "from ccdc.descriptors import CrystalDescriptors\n",
    "from ccdc.search import TextNumericSearch, SubstructureSearch\n",
    "from ccdc.io import EntryReader\n",
    "import pandas as pd\n",
    "import numpy as np\n",
    "import sklearn as sk\n",
    "import os\n",
    "from scipy.signal import find_peaks\n",
    "import matplotlib.pyplot as plt\n",
    "import tempfile\n",
    "import sys\n",
    "sys.path.append(\"/home/jrpowel9/space-group-environment/src\")\n",
    "import pdb_wizard\n",
    "from openbabel import openbabel, pybel"
   ]
  },
  {
   "cell_type": "code",
   "execution_count": 2,
   "id": "8895bc13-d00c-446b-bacc-fb07aa854a6b",
   "metadata": {},
   "outputs": [],
   "source": [
    "dois = ['10.1021/ja500330a'] # Ref number 90"
   ]
  },
  {
   "cell_type": "code",
   "execution_count": 6,
   "id": "17b96b51-aa0a-4812-9f10-3fe8fb2623d5",
   "metadata": {},
   "outputs": [
    {
     "name": "stdout",
     "output_type": "stream",
     "text": [
      "BOHJOZ\n",
      "Reading file -f [███████████████████████████████████████████████████████████.] 341/342\n",
      "BOHJUF\n",
      "Reading file -f [███████████████████████████████████████████████████████████.] 656/657\n",
      "BOHKAM\n",
      "Reading file -f [███████████████████████████████████████████████████████████.] 341/342\n",
      "BOHWIG\n",
      "Reading file -f [███████████████████████████████████████████████████████████.] 262/263\n",
      "BOHWOM\n",
      "Reading file -f [███████████████████████████████████████████████████████████.] 355/356\n",
      "BOHWUS\n",
      "Reading file -f [███████████████████████████████████████████████████████████.] 166/167\n",
      "BOHXAZ\n",
      "Reading file -f [███████████████████████████████████████████████████████████.] 356/357\n",
      "BOHXED\n",
      "Reading file -f [███████████████████████████████████████████████████████████.] 267/268\n",
      "BOHXIH\n",
      "Reading file -f [███████████████████████████████████████████████████████████.] 280/281\n"
     ]
    }
   ],
   "source": [
    "csd_reader = EntryReader('CSD')\n",
    "# Try saving pdb or sdf/sdf2\n",
    "# Pdbs failed 8/9, sdf2 wasn't recognized, sdf failed 6/9\n",
    "tmp_file_type = 'pdb'\n",
    "# print DOI, ref code, whether or not in core mof database, and whether or not charges ran successfully\n",
    "# save to a dataframe\n",
    "for doi in dois:\n",
    "    doi_search = TextNumericSearch()\n",
    "    doi_search.add_doi(doi)\n",
    "    for q in doi_search.search():\n",
    "        mol_name = q.identifier\n",
    "        mol = csd_reader.molecule(mol_name)\n",
    "        print(mol_name)\n",
    "\n",
    "        with tempfile.NamedTemporaryFile(delete=True, suffix='.' + tmp_file_type, mode='w+') as fp:\n",
    "            with io.CrystalWriter(fp.name, append=True) as crystal_writer:\n",
    "                crystal_writer.write(mol)\n",
    "            # print(fp.read())\n",
    "            fp.seek(0)\n",
    "            is_trajectory = pdb_wizard.check_pdb_trajectory(fp.name)\n",
    "            fp.seek(0)\n",
    "            if is_trajectory:\n",
    "                systems, pbcs = pdb_wizard.read_pdb_trajectory(fp)\n",
    "            else:\n",
    "                # NOTE: read_pdb closes the file at the end by default, you should change it so it does not do this\n",
    "                system, pbc = pdb_wizard.read_pdb(fp)\n",
    "            if pbc is None:\n",
    "                print('PBC info not found :(')\n",
    "            import time\n",
    "            time.sleep(1)\n",
    "            \n",
    "            # print(data)\n",
    "            # mol = next(pybel.readfile(tmp_file_type, fp.name))\n",
    "            # charges = mol.calccharges(\"eqeq\")\n",
    "            # print(mol)"
   ]
  },
  {
   "cell_type": "code",
   "execution_count": null,
   "id": "aa16682b-fcb6-45e3-b25f-eb95f943bf8c",
   "metadata": {},
   "outputs": [],
   "source": []
  }
 ],
 "metadata": {
  "kernelspec": {
   "display_name": "Python 3 (ipykernel)",
   "language": "python",
   "name": "python3"
  },
  "language_info": {
   "codemirror_mode": {
    "name": "ipython",
    "version": 3
   },
   "file_extension": ".py",
   "mimetype": "text/x-python",
   "name": "python",
   "nbconvert_exporter": "python",
   "pygments_lexer": "ipython3",
   "version": "3.9.18"
  }
 },
 "nbformat": 4,
 "nbformat_minor": 5
}
