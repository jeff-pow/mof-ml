{
 "cells": [
  {
   "cell_type": "code",
   "execution_count": 26,
   "id": "d9553468-f744-4c04-9a6b-b9feeb54337b",
   "metadata": {},
   "outputs": [],
   "source": [
    "from ccdc import io\n",
    "from ccdc.descriptors import CrystalDescriptors\n",
    "from ccdc.search import TextNumericSearch, SubstructureSearch\n",
    "from ccdc.io import EntryReader\n",
    "import pandas as pd\n",
    "import numpy as np\n",
    "import sklearn as sk\n",
    "import os\n",
    "from scipy.signal import find_peaks\n",
    "import matplotlib.pyplot as plt"
   ]
  },
  {
   "cell_type": "code",
   "execution_count": 27,
   "id": "8895bc13-d00c-446b-bacc-fb07aa854a6b",
   "metadata": {},
   "outputs": [],
   "source": [
    "dois = ['10.1021/ja500330a'] # Ref number 90"
   ]
  },
  {
   "cell_type": "code",
   "execution_count": 28,
   "id": "17b96b51-aa0a-4812-9f10-3fe8fb2623d5",
   "metadata": {},
   "outputs": [],
   "source": [
    "csd_reader = EntryReader('CSD')\n",
    "cif_dir = os.path.join('paper-cifs')\n",
    "pdb_dir = os.path.join('paper-pdbs')\n",
    "os.rmdir(cif_dir)\n",
    "os.mkdir(cif_dir, 0o744)\n",
    "os.rmdir(pdb_dir)\n",
    "os.mkdir(pdb_dir, 0o744)\n",
    "for doi in dois:\n",
    "    doi_search = TextNumericSearch()\n",
    "    doi_search.add_doi(doi)\n",
    "    for q in doi_search.search():\n",
    "        mol = csd_reader.molecule(q.identifier)\n",
    "        with io.CrystalWriter(os.path.join(cif_dir, q.identifier + '.cif'), append=True) as crystal_writer:\n",
    "            crystal_writer.write(mol)\n",
    "        with io.CrystalWriter(os.path.join(pdb_dir, q.identifier + '.pdb'), append=True) as crystal_writer:\n",
    "            crystal_writer.write(mol)"
   ]
  },
  {
   "cell_type": "code",
   "execution_count": null,
   "id": "9382085d-0d6d-439d-ab6e-5829c29eb173",
   "metadata": {},
   "outputs": [],
   "source": []
  }
 ],
 "metadata": {
  "kernelspec": {
   "display_name": "Python 3 (ipykernel)",
   "language": "python",
   "name": "python3"
  },
  "language_info": {
   "codemirror_mode": {
    "name": "ipython",
    "version": 3
   },
   "file_extension": ".py",
   "mimetype": "text/x-python",
   "name": "python",
   "nbconvert_exporter": "python",
   "pygments_lexer": "ipython3",
   "version": "3.9.18"
  }
 },
 "nbformat": 4,
 "nbformat_minor": 5
}
