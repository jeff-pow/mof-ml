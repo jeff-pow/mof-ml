{
 "cells": [
  {
   "cell_type": "code",
   "execution_count": 1,
   "id": "1120cf64-2cfd-4d0e-a707-76bd7de10cb1",
   "metadata": {},
   "outputs": [],
   "source": [
    "# This notebook will currently indiscriminantly convert the MOFs found associated with the DOI's provided a couple cells \n",
    "# down into pdbs after cleaning them."
   ]
  },
  {
   "cell_type": "code",
   "execution_count": 2,
   "id": "d9553468-f744-4c04-9a6b-b9feeb54337b",
   "metadata": {
    "is_executing": true
   },
   "outputs": [],
   "source": [
    "from ccdc import io\n",
    "from ccdc.descriptors import CrystalDescriptors\n",
    "from ccdc.search import TextNumericSearch, SubstructureSearch\n",
    "from ccdc.io import EntryReader\n",
    "import pandas as pd\n",
    "import numpy as np\n",
    "import sklearn as sk\n",
    "import os\n",
    "from scipy.signal import find_peaks\n",
    "import matplotlib.pyplot as plt\n",
    "import tempfile\n",
    "import sys\n",
    "#sys.path.append(\"/home/jrpowel9/space-group-environment/src\")\n",
    "import pdb_wizard\n",
    "from openbabel import openbabel, pybel"
   ]
  },
  {
   "cell_type": "code",
   "execution_count": 3,
   "id": "8895bc13-d00c-446b-bacc-fb07aa854a6b",
   "metadata": {},
   "outputs": [],
   "source": [
    "# dois = ['10.1021/ja500330a'] # Ref number 90\n",
    "dois = ['10.1021/ja500330a'] # Ref 75 - Should contain MOF-841(Zr)"
   ]
  },
  {
   "cell_type": "code",
   "execution_count": 4,
   "id": "17b96b51-aa0a-4812-9f10-3fe8fb2623d5",
   "metadata": {},
   "outputs": [
    {
     "name": "stdout",
     "output_type": "stream",
     "text": [
      "10.1021/ja500330a\n",
      ":(\n",
      "BOHJOZ\n",
      "<class 'ccdc.molecule.Molecule'>\n",
      ":(\n",
      "BOHJUF\n",
      "<class 'ccdc.molecule.Molecule'>\n",
      ":(\n",
      "BOHKAM\n",
      "<class 'ccdc.molecule.Molecule'>\n",
      ":(\n",
      "BOHWIG\n",
      "<class 'ccdc.molecule.Molecule'>\n",
      ":(\n",
      "BOHWOM\n",
      "<class 'ccdc.molecule.Molecule'>\n",
      ":(\n",
      "BOHWUS\n",
      "<class 'ccdc.molecule.Molecule'>\n",
      ":(\n",
      "BOHXAZ\n",
      "<class 'ccdc.molecule.Molecule'>\n",
      ":(\n",
      "BOHXED\n",
      "<class 'ccdc.molecule.Molecule'>\n",
      ":(\n",
      "BOHXIH\n",
      "<class 'ccdc.molecule.Molecule'>\n"
     ]
    }
   ],
   "source": [
    "csd_reader = EntryReader('CSD')\n",
    "# Try saving pdb or sdf/sdf2\n",
    "# Pdbs failed 8/9, sdf2 wasn't recognized, sdf failed 6/9\n",
    "tmp_file_type = 'pdb'\n",
    "# print DOI, ref code, whether or not in core mof database, and whether or not charges ran successfully\n",
    "# save to a dataframe\n",
    "for doi in dois:\n",
    "    doi_search = TextNumericSearch()\n",
    "    doi_search.add_doi(doi)\n",
    "    print(doi)\n",
    "    for q in doi_search.search():\n",
    "        print(':(')\n",
    "        mol_name = q.identifier\n",
    "        mol = csd_reader.molecule(mol_name)\n",
    "        print(mol_name)\n",
    "        print(type(mol))\n",
    "        continue\n",
    "\n",
    "        with tempfile.NamedTemporaryFile(delete=True, suffix='.' + tmp_file_type, mode='w+') as fp:\n",
    "            with io.CrystalWriter(fp.name, append=True) as crystal_writer:\n",
    "                crystal_writer.write(mol)\n",
    "            # print(fp.read())\n",
    "            fp.seek(0)\n",
    "            is_trajectory = pdb_wizard.check_pdb_trajectory(fp.name)\n",
    "            fp.seek(0)\n",
    "            if is_trajectory:\n",
    "                print('Trajectories are not handled...')\n",
    "                exit(1)\n",
    "            else:\n",
    "                system, pbc = pdb_wizard.read_pdb(fp)\n",
    "            if pbc is None:\n",
    "                print('PBC info not found :(')\n",
    "                exit(1)\n",
    "            out = open(mol_name + '_dirty.pdb', 'w')\n",
    "            pdb_wizard.write_standard_pdb(system, pbc, out)\n",
    "            out.close()\n",
    "            pdb_wizard.delete_solvents(system, pbc)\n",
    "            out = open(mol_name + '_clean.pdb', 'w')\n",
    "            pdb_wizard.write_standard_pdb(system, pbc, out)\n",
    "            out.close()\n",
    "            \n",
    "            # print(data)\n",
    "            # mol = next(pybel.readfile(tmp_file_type, fp.name))\n",
    "            # charges = mol.calccharges(\"eqeq\")\n",
    "            # print(mol)"
   ]
  },
  {
   "cell_type": "code",
   "execution_count": null,
   "id": "cfe3400b-99c2-49ce-84cb-fb74ed5d87ca",
   "metadata": {},
   "outputs": [],
   "source": []
  }
 ],
 "metadata": {
  "kernelspec": {
   "display_name": "Python 3 (ipykernel)",
   "language": "python",
   "name": "python3"
  },
  "language_info": {
   "codemirror_mode": {
    "name": "ipython",
    "version": 3
   },
   "file_extension": ".py",
   "mimetype": "text/x-python",
   "name": "python",
   "nbconvert_exporter": "python",
   "pygments_lexer": "ipython3",
   "version": "3.9.18"
  }
 },
 "nbformat": 4,
 "nbformat_minor": 5
}
